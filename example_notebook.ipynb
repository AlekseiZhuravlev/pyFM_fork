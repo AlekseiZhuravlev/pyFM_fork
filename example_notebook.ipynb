{
 "cells": [
  {
   "cell_type": "markdown",
   "metadata": {},
   "source": [
    "# 1 - Imports and functions plotting"
   ]
  },
  {
   "cell_type": "code",
   "execution_count": 1,
   "metadata": {},
   "outputs": [],
   "source": [
    "import numpy as np\n",
    "\n",
    "from pyFM.mesh import TriMesh\n",
    "from pyFM.functional import FunctionalMapping\n",
    "\n",
    "import meshplot as mp\n",
    "\n",
    "def plot_mesh(myMesh,cmap=None):\n",
    "    mp.plot(myMesh.vertlist, myMesh.facelist,c=cmap)\n",
    "    \n",
    "def double_plot(myMesh1,myMesh2,cmap1=None,cmap2=None):\n",
    "    d = mp.subplot(myMesh1.vertlist, myMesh1.facelist, c=cmap1, s=[2, 2, 0])\n",
    "    mp.subplot(myMesh2.vertlist, myMesh2.facelist, c=cmap2, s=[2, 2, 1], data=d)\n",
    "\n",
    "def visu(vertices):\n",
    "    min_coord,max_coord = np.min(vertices,axis=0,keepdims=True),np.max(vertices,axis=0,keepdims=True)\n",
    "    cmap = (vertices-min_coord)/(max_coord-min_coord)\n",
    "    return cmap"
   ]
  },
  {
   "cell_type": "code",
   "execution_count": 2,
   "metadata": {},
   "outputs": [
    {
     "name": "stdout",
     "output_type": "stream",
     "text": [
      "Mesh 1 : 7207 vertices, 14410 faces\n",
      "Mesh 2 : 5000 vertices,  9996 faces\n"
     ]
    },
    {
     "data": {
      "application/vnd.jupyter.widget-view+json": {
       "model_id": "7fa739c1bc5442479a352be6ddeba12f",
       "version_major": 2,
       "version_minor": 0
      },
      "text/plain": [
       "HBox(children=(Output(), Output()))"
      ]
     },
     "metadata": {},
     "output_type": "display_data"
    },
    {
     "data": {
      "application/vnd.jupyter.widget-view+json": {
       "model_id": "9a69417591cb41a38e0a7a84bf8d8a5d",
       "version_major": 2,
       "version_minor": 0
      },
      "text/plain": [
       "HBox(children=(Output(), Output()))"
      ]
     },
     "metadata": {},
     "output_type": "display_data"
    }
   ],
   "source": [
    "mesh1 = TriMesh('data/cat-00.off')\n",
    "mesh2 = TriMesh('data/lion-00.off')\n",
    "print(f'Mesh 1 : {mesh1.n_vertices:4d} vertices, {mesh1.n_faces:5d} faces\\n'\n",
    "      f'Mesh 2 : {mesh2.n_vertices:4d} vertices, {mesh2.n_faces:5d} faces')\n",
    "\n",
    "double_plot(mesh1,mesh2)"
   ]
  },
  {
   "cell_type": "code",
   "execution_count": 3,
   "metadata": {},
   "outputs": [],
   "source": [
    "k1,k2 = 50,50 # Number of eigenvalues on source and Target\n",
    "landmarks = np.loadtxt('data/landmarks.txt',dtype=int)[:5] # loading 5 landmarks"
   ]
  },
  {
   "cell_type": "code",
   "execution_count": 4,
   "metadata": {},
   "outputs": [
    {
     "name": "stdout",
     "output_type": "stream",
     "text": [
      "\n",
      "Computing Laplacian spectrum\n",
      "Compute linear FEM Laplace-Beltrami spectrum\n",
      "Compute linear FEM Laplace-Beltrami spectrum\n",
      "\n",
      "Computing descriptors\n",
      "\tNormalizing descriptors\n",
      "\n",
      "\t120 out of 600 possible descriptors kept\n",
      "\tDone\n"
     ]
    },
    {
     "data": {
      "text/plain": [
       "<pyFM.functional.FunctionalMapping at 0x1a1ec975400>"
      ]
     },
     "execution_count": 4,
     "metadata": {},
     "output_type": "execute_result"
    }
   ],
   "source": [
    "model = FunctionalMapping(mesh1,mesh2)\n",
    "model.preprocess(n_ev=(k1,k2),subsample_step = 5, landmarks = landmarks, verbose=True)"
   ]
  },
  {
   "cell_type": "code",
   "execution_count": 5,
   "metadata": {},
   "outputs": [
    {
     "name": "stdout",
     "output_type": "stream",
     "text": [
      "Computing new descriptors\n",
      "\tDone\n",
      "\n",
      "Optimization :\n",
      "\t50 Ev on source - 50 Ev on Target\n",
      "\tUsing 120 Descriptors\n",
      "\tHyperparameters :\n",
      "\t\tDescriptors preservation :1.0e+00\n",
      "\t\tDescriptors commutativity :1.0e-01\n",
      "\t\tLaplacian commutativity :1.0e-03\n",
      "\n",
      "\tTask : b'CONVERGENCE: REL_REDUCTION_OF_F_<=_FACTR*EPSMCH', funcall : 53, nit : 50, warnflag : 0\n",
      "\tDone\n"
     ]
    }
   ],
   "source": [
    "descr_mu = 1e0\n",
    "lap_mu = 1e-3\n",
    "descr_comm_mu=1e-1\n",
    "\n",
    "model.fit(descr_mu = descr_mu,lap_mu = lap_mu, descr_comm_mu=descr_comm_mu, verbose=True)"
   ]
  },
  {
   "cell_type": "code",
   "execution_count": 6,
   "metadata": {
    "scrolled": true
   },
   "outputs": [
    {
     "data": {
      "application/vnd.jupyter.widget-view+json": {
       "model_id": "63ff1a2118a94425b1de66024c634eec",
       "version_major": 2,
       "version_minor": 0
      },
      "text/plain": [
       "HBox(children=(Output(), Output()))"
      ]
     },
     "metadata": {},
     "output_type": "display_data"
    },
    {
     "data": {
      "application/vnd.jupyter.widget-view+json": {
       "model_id": "ed542dce04fb426bbfcdb022d963af01",
       "version_major": 2,
       "version_minor": 0
      },
      "text/plain": [
       "HBox(children=(Output(), Output()))"
      ]
     },
     "metadata": {},
     "output_type": "display_data"
    }
   ],
   "source": [
    "p2p = model.p2p\n",
    "cmap1 = visu(mesh1.vertlist); cmap2 = cmap1[p2p]\n",
    "double_plot(mesh1,mesh2,cmap1,cmap2)"
   ]
  },
  {
   "cell_type": "code",
   "execution_count": 7,
   "metadata": {},
   "outputs": [
    {
     "data": {
      "application/vnd.jupyter.widget-view+json": {
       "model_id": "9e120c30ee0b4cd481fd2ca3d226525f",
       "version_major": 2,
       "version_minor": 0
      },
      "text/plain": [
       "HBox(children=(Output(), Output()))"
      ]
     },
     "metadata": {},
     "output_type": "display_data"
    },
    {
     "data": {
      "application/vnd.jupyter.widget-view+json": {
       "model_id": "c07c0f357b37458a8aa9cca5336bf53f",
       "version_major": 2,
       "version_minor": 0
      },
      "text/plain": [
       "HBox(children=(Output(), Output()))"
      ]
     },
     "metadata": {},
     "output_type": "display_data"
    }
   ],
   "source": [
    "model.icp_refine()\n",
    "p2p = model.p2p\n",
    "cmap1 = visu(mesh1.vertlist); cmap2 = cmap1[p2p]\n",
    "double_plot(mesh1,mesh2,cmap1,cmap2)"
   ]
  },
  {
   "cell_type": "code",
   "execution_count": 9,
   "metadata": {},
   "outputs": [
    {
     "data": {
      "application/vnd.jupyter.widget-view+json": {
       "model_id": "ee1440942eea4ae1ae26c3a6fbbe5dec",
       "version_major": 2,
       "version_minor": 0
      },
      "text/plain": [
       "HBox(children=(Output(), Output()))"
      ]
     },
     "metadata": {},
     "output_type": "display_data"
    },
    {
     "data": {
      "application/vnd.jupyter.widget-view+json": {
       "model_id": "c34ca6571c22429684b4b795cc9a64ec",
       "version_major": 2,
       "version_minor": 0
      },
      "text/plain": [
       "HBox(children=(Output(), Output()))"
      ]
     },
     "metadata": {},
     "output_type": "display_data"
    }
   ],
   "source": [
    "model.change_FM_type('classic')\n",
    "model.zoomout_refine(nit=15)\n",
    "p2p = model.p2p\n",
    "cmap1 = visu(mesh1.vertlist); cmap2 = cmap1[p2p]\n",
    "double_plot(mesh1,mesh2,cmap1,cmap2)"
   ]
  },
  {
   "cell_type": "code",
   "execution_count": null,
   "metadata": {},
   "outputs": [],
   "source": []
  }
 ],
 "metadata": {
  "kernelspec": {
   "display_name": "Python 3",
   "language": "python",
   "name": "python3"
  },
  "language_info": {
   "codemirror_mode": {
    "name": "ipython",
    "version": 3
   },
   "file_extension": ".py",
   "mimetype": "text/x-python",
   "name": "python",
   "nbconvert_exporter": "python",
   "pygments_lexer": "ipython3",
   "version": "3.6.10"
  }
 },
 "nbformat": 4,
 "nbformat_minor": 4
}
