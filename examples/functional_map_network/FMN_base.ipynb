{
 "cells": [
  {
   "cell_type": "markdown",
   "metadata": {},
   "source": [
    "\n",
    "# 1 - Imports and defining functions"
   ]
  },
  {
   "cell_type": "code",
   "execution_count": 9,
   "metadata": {
    "metadata": {}
   },
   "outputs": [],
   "source": [
    "import sys\n",
    "import os\n",
    "\n",
    "meshplot_folder = '/home/s94zalek/shape_matching/meshplot_fork'\n",
    "sys.path.append(meshplot_folder)\n",
    "os.chdir(meshplot_folder)\n",
    "import meshplot as mp\n",
    "\n",
    "base_folder = '/home/s94zalek/shape_matching/pyFM_fork'\n",
    "\n",
    "sys.path.append(base_folder)\n",
    "os.chdir(base_folder)"
   ]
  },
  {
   "cell_type": "code",
   "execution_count": 10,
   "metadata": {
    "metadata": {}
   },
   "outputs": [],
   "source": [
    "import os\n",
    "import numpy as np\n",
    "\n",
    "from pyFM.mesh import TriMesh\n",
    "from tqdm.auto import tqdm\n",
    "\n",
    "\n",
    "\n",
    "def plot_mesh(myMesh,cmap=None):\n",
    "    mp.plot(myMesh.vertlist, myMesh.facelist,c=cmap)\n",
    "    \n",
    "def double_plot(myMesh1,myMesh2,cmap1=None,cmap2=None):\n",
    "    d = mp.subplot(myMesh1.vertlist, myMesh1.facelist, c=cmap1, s=[2, 2, 0])\n",
    "    mp.subplot(myMesh2.vertlist, myMesh2.facelist, c=cmap2, s=[2, 2, 1], data=d)\n",
    "\n",
    "def visu(vertices):\n",
    "    min_coord,max_coord = np.min(vertices,axis=0,keepdims=True),np.max(vertices,axis=0,keepdims=True)\n",
    "    cmap = (vertices-min_coord)/(max_coord-min_coord)\n",
    "    return cmap"
   ]
  },
  {
   "cell_type": "markdown",
   "metadata": {},
   "source": [
    "# 2 - Loading Data"
   ]
  },
  {
   "cell_type": "markdown",
   "metadata": {},
   "source": [
    "A functional map network expects two objects as input:\n",
    " - A list `meshlist` of all the meshes in the networks (nodes in the graph)\n",
    " - A dictionary `maps_dict` containing functional maps, where keys are of the shape `(i,j)` with `i` and `j` the indices of the meshes in `meshlist`\n",
    "\n",
    "\n",
    "We have access both to the meshes and to noisy *pointwise maps*, which we will have to convert to functional maps !"
   ]
  },
  {
   "cell_type": "markdown",
   "metadata": {},
   "source": [
    "Let's first load the meshes"
   ]
  },
  {
   "cell_type": "code",
   "execution_count": 14,
   "metadata": {
    "metadata": {}
   },
   "outputs": [
    {
     "data": {
      "application/vnd.jupyter.widget-view+json": {
       "model_id": "e2a95b7a827842d88713207db111d292",
       "version_major": 2,
       "version_minor": 0
      },
      "text/plain": [
       "  0%|          | 0/10 [00:00<?, ?it/s]"
      ]
     },
     "metadata": {},
     "output_type": "display_data"
    }
   ],
   "source": [
    "meshlist = [TriMesh(f'examples/data/camel_gallop/camel-gallop-{i:02d}.off', area_normalize=True, center=True).process(k=150, intrinsic=True) for i in tqdm(range(1,11))]"
   ]
  },
  {
   "cell_type": "code",
   "execution_count": null,
   "metadata": {
    "metadata": {}
   },
   "outputs": [],
   "source": [
    "double_plot(meshlist[0], meshlist[5])"
   ]
  },
  {
   "cell_type": "markdown",
   "metadata": {},
   "source": [
    "Let's now load the pointwise maps and convert them to functional maps using pyFM, thus building `maps_dict`"
   ]
  },
  {
   "cell_type": "code",
   "execution_count": 16,
   "metadata": {
    "metadata": {}
   },
   "outputs": [
    {
     "data": {
      "application/vnd.jupyter.widget-view+json": {
       "model_id": "225cd79cd2f442c39e196c6ff4c093b4",
       "version_major": 2,
       "version_minor": 0
      },
      "text/plain": [
       "  0%|          | 0/30 [00:00<?, ?it/s]"
      ]
     },
     "metadata": {},
     "output_type": "display_data"
    }
   ],
   "source": [
    "import pyFM.spectral as spectral\n",
    "\n",
    "K = 30  # Size of initial functional maps, small value since our initial maps have noise\n",
    "\n",
    "# All pointwise maps are located here, with format 'ind2_to_ind1' for the map from mesh ind2 to mesh ind1\n",
    "map_files = os.listdir('examples/data/camel_gallop/maps')\n",
    "\n",
    "maps_dict = {}\n",
    "\n",
    "for map_filename in tqdm(map_files):\n",
    "    ind2, ind1 = map_filename.split('_to_')\n",
    "    ind1, ind2 = int(ind1), int(ind2)\n",
    "\n",
    "    # Indicing starts at 1 in the names, but at 0 on the meshlist\n",
    "    mesh1, mesh2 = meshlist[ind1-1], meshlist[ind2-1]\n",
    "    \n",
    "    # Load the pointwise map\n",
    "    p2p_21 = np.loadtxt(f'examples/data/camel_gallop/maps/{map_filename}', dtype=int)\n",
    "\n",
    "    # Convert to functional map\n",
    "    FM_12 = spectral.mesh_p2p_to_FM(p2p_21, mesh1, mesh2, dims=K)\n",
    "    \n",
    "    # Populate the dictionary\n",
    "    maps_dict[(ind1-1, ind2-1)] = FM_12"
   ]
  },
  {
   "cell_type": "code",
   "execution_count": 30,
   "metadata": {
    "metadata": {}
   },
   "outputs": [
    {
     "name": "stdout",
     "output_type": "stream",
     "text": [
      "[[   0  457]\n",
      " [   1    1]\n",
      " [   3    1]\n",
      " ...\n",
      " [4992    2]\n",
      " [4999    1]\n",
      " [5000    2]]\n"
     ]
    }
   ],
   "source": [
    "# count unique values and counts in p2p_21\n",
    "unique, counts = np.unique(p2p_21, return_counts=True)\n",
    "print(np.asarray((unique, counts)).T)"
   ]
  },
  {
   "cell_type": "markdown",
   "metadata": {},
   "source": [
    "# 3 - Building the Canonical Consistent Latent Basis"
   ]
  },
  {
   "cell_type": "markdown",
   "metadata": {},
   "source": [
    "Let's build the FMN model and the canonical latent basis"
   ]
  },
  {
   "cell_type": "code",
   "execution_count": 17,
   "metadata": {
    "metadata": {}
   },
   "outputs": [],
   "source": [
    "from pyFM.FMN import FMN"
   ]
  },
  {
   "cell_type": "code",
   "execution_count": 18,
   "metadata": {
    "metadata": {}
   },
   "outputs": [
    {
     "name": "stdout",
     "output_type": "stream",
     "text": [
      "Setting 30 edges on 10 nodes.\n",
      "Computing cycle information\n",
      "Optimizing Cycle Weights...\n",
      "\tDone in 0.02392s\n",
      "Computing 30 CLB eigenvectors...\n",
      "\tDone in 0.0s\n"
     ]
    },
    {
     "data": {
      "text/plain": [
       "<pyFM.FMN.FMN.FMN at 0x7f81a7068730>"
      ]
     },
     "execution_count": 18,
     "metadata": {},
     "output_type": "execute_result"
    }
   ],
   "source": [
    "# Build the network\n",
    "fmn_model = FMN(meshlist, maps_dict.copy())\n",
    "\n",
    "# Compute CCLB\n",
    "fmn_model.compute_CCLB(m=20)"
   ]
  },
  {
   "cell_type": "markdown",
   "metadata": {},
   "source": [
    "# 4 - Analyze the embedding"
   ]
  },
  {
   "cell_type": "markdown",
   "metadata": {},
   "source": [
    "We can use the Characterisic Shape Differences as embedding of each shape.\n",
    "We have access to both the *area* and *conformal* characteristic shape difference operator for each shape using the CCLB."
   ]
  },
  {
   "cell_type": "code",
   "execution_count": 19,
   "metadata": {
    "metadata": {}
   },
   "outputs": [],
   "source": [
    "all_embs_a = []\n",
    "all_embs_c = []\n",
    "\n",
    "for i in range(fmn_model.n_meshes):\n",
    "    CSD_a, CSD_c = fmn_model.get_CSD(i)\n",
    "\n",
    "    all_embs_a.append(CSD_a.flatten())\n",
    "    all_embs_c.append(CSD_c.flatten())\n",
    "\n",
    "all_embs_a = np.array(all_embs_a)\n",
    "all_embs_c = np.array(all_embs_c)"
   ]
  },
  {
   "cell_type": "markdown",
   "metadata": {},
   "source": [
    "Let's apply PCA on the embedding to visualize the results"
   ]
  },
  {
   "cell_type": "code",
   "execution_count": 20,
   "metadata": {
    "metadata": {}
   },
   "outputs": [],
   "source": [
    "import matplotlib.pyplot as plt\n",
    "from sklearn.decomposition import PCA\n",
    "pca_model = PCA(n_components=2)\n",
    "emb_red_a = pca_model.fit_transform(all_embs_a)\n",
    "emb_red_c = pca_model.fit_transform(all_embs_c)"
   ]
  },
  {
   "cell_type": "code",
   "execution_count": null,
   "metadata": {
    "metadata": {}
   },
   "outputs": [],
   "source": [
    "_, axs = plt.subplots(1, 2, figsize=(15, 5))\n",
    "\n",
    "axs[0].scatter(emb_red_a[:, 0], emb_red_a[:, 1], c=np.arange(len(emb_red_a)))\n",
    "axs[0].set_title('Area CSD')\n",
    "\n",
    "axs[1].scatter(emb_red_c[:, 0], emb_red_c[:, 1], c=np.arange(len(emb_red_c)))\n",
    "axs[1].set_title('Conformal CSD')"
   ]
  },
  {
   "cell_type": "markdown",
   "metadata": {},
   "source": [
    "# 5 - Apply Consistent ZoomOut"
   ]
  },
  {
   "cell_type": "code",
   "execution_count": 22,
   "metadata": {
    "metadata": {}
   },
   "outputs": [
    {
     "name": "stdout",
     "output_type": "stream",
     "text": [
      "Computing a 3000-sized subsample for each mesh\n"
     ]
    },
    {
     "data": {
      "application/vnd.jupyter.widget-view+json": {
       "model_id": "1bd7e0d9e4d3476e92e0e3b3292eaa84",
       "version_major": 2,
       "version_minor": 0
      },
      "text/plain": [
       "  0%|          | 0/9 [00:00<?, ?it/s]"
      ]
     },
     "metadata": {},
     "output_type": "display_data"
    }
   ],
   "source": [
    "fmn_model.zoomout_refine(nit=10, step=5, subsample=3000, isometric=True, weight_type='icsm',\n",
    "                    M_init=None, cclb_ratio=.9, n_jobs=1, equals_id=False,\n",
    "                    verbose=True)"
   ]
  },
  {
   "cell_type": "code",
   "execution_count": 23,
   "metadata": {
    "metadata": {}
   },
   "outputs": [
    {
     "name": "stdout",
     "output_type": "stream",
     "text": [
      "Optimizing Cycle Weights...\n",
      "\tDone in 0.00222s\n",
      "Computing 75 CLB eigenvectors...\n",
      "\tDone in 0.2s\n"
     ]
    },
    {
     "data": {
      "text/plain": [
       "<pyFM.FMN.FMN.FMN at 0x7f81a7068730>"
      ]
     },
     "execution_count": 23,
     "metadata": {},
     "output_type": "execute_result"
    }
   ],
   "source": [
    "fmn_model.compute_CCLB(m=int(0.9*fmn_model.M))"
   ]
  },
  {
   "cell_type": "code",
   "execution_count": 24,
   "metadata": {
    "metadata": {}
   },
   "outputs": [
    {
     "data": {
      "text/plain": [
       "(67,)"
      ]
     },
     "execution_count": 24,
     "metadata": {},
     "output_type": "execute_result"
    }
   ],
   "source": [
    "fmn_model.cclb_eigenvalues.shape"
   ]
  },
  {
   "cell_type": "code",
   "execution_count": 25,
   "metadata": {
    "metadata": {}
   },
   "outputs": [],
   "source": [
    "all_embs_a = []\n",
    "all_embs_c = []\n",
    "\n",
    "for i in range(fmn_model.n_meshes):\n",
    "    CSD_a, CSD_c = fmn_model.get_CSD(i)\n",
    "\n",
    "    all_embs_a.append(CSD_a.flatten())\n",
    "    all_embs_c.append(CSD_c.flatten())\n",
    "\n",
    "all_embs_a = np.array(all_embs_a)\n",
    "all_embs_c = np.array(all_embs_c)"
   ]
  },
  {
   "cell_type": "code",
   "execution_count": 26,
   "metadata": {
    "metadata": {}
   },
   "outputs": [],
   "source": [
    "import matplotlib.pyplot as plt\n",
    "from sklearn.decomposition import PCA\n",
    "pca_model = PCA(n_components=2)\n",
    "emb_red_a = pca_model.fit_transform(all_embs_a)\n",
    "emb_red_c = pca_model.fit_transform(all_embs_c)"
   ]
  },
  {
   "cell_type": "code",
   "execution_count": null,
   "metadata": {
    "metadata": {}
   },
   "outputs": [],
   "source": [
    "_, axs = plt.subplots(1, 2, figsize=(15, 5))\n",
    "\n",
    "axs[0].scatter(emb_red_a[:, 0], emb_red_a[:, 1], c=np.arange(len(emb_red_a)))\n",
    "axs[0].set_title('Area CSD')\n",
    "\n",
    "axs[1].scatter(emb_red_c[:, 0], emb_red_c[:, 1], c=np.arange(len(emb_red_c)))\n",
    "axs[1].set_title('Conformal CSD')"
   ]
  },
  {
   "cell_type": "code",
   "execution_count": null,
   "metadata": {},
   "outputs": [],
   "source": []
  }
 ],
 "metadata": {
  "kernelspec": {
   "display_name": "Python 3 (ipykernel)",
   "language": "python",
   "name": "python3"
  },
  "orig_nbformat": 4
 },
 "nbformat": 4,
 "nbformat_minor": 2
}
