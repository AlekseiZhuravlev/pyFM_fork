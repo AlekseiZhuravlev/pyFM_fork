{
 "cells": [
  {
   "cell_type": "markdown",
   "metadata": {},
   "source": [
    "\n",
    "# 1 - Imports and defining functions"
   ]
  },
  {
   "cell_type": "code",
   "execution_count": 52,
   "metadata": {
    "metadata": {}
   },
   "outputs": [],
   "source": [
    "import sys\n",
    "import os\n",
    "\n",
    "meshplot_folder = '/home/s94zalek/shape_matching/meshplot_fork'\n",
    "sys.path.append(meshplot_folder)\n",
    "os.chdir(meshplot_folder)\n",
    "import meshplot as mp\n",
    "\n",
    "base_folder = '/home/s94zalek/shape_matching/pyFM_fork'\n",
    "\n",
    "sys.path.append(base_folder)\n",
    "os.chdir(base_folder)"
   ]
  },
  {
   "cell_type": "code",
   "execution_count": 53,
   "metadata": {
    "metadata": {}
   },
   "outputs": [],
   "source": [
    "import numpy as np\n",
    "\n",
    "from pyFM.mesh import TriMesh\n",
    "from pyFM.functional import FunctionalMapping\n",
    "\n",
    "import meshplot as mp\n",
    "\n",
    "def plot_mesh(myMesh,cmap=None):\n",
    "    mp.plot(myMesh.vertlist, myMesh.facelist,c=cmap)\n",
    "    \n",
    "def double_plot(myMesh1,myMesh2,cmap1=None,cmap2=None):\n",
    "    d = mp.subplot(myMesh1.vertlist, myMesh1.facelist, c=cmap1, s=[2, 2, 0])\n",
    "    mp.subplot(myMesh2.vertlist, myMesh2.facelist, c=cmap2, s=[2, 2, 1], data=d)\n",
    "\n",
    "def visu(vertices):\n",
    "    min_coord,max_coord = np.min(vertices,axis=0,keepdims=True),np.max(vertices,axis=0,keepdims=True)\n",
    "    cmap = (vertices-min_coord)/(max_coord-min_coord)\n",
    "    return cmap"
   ]
  },
  {
   "cell_type": "markdown",
   "metadata": {},
   "source": [
    "# 2- Loading meshes to match"
   ]
  },
  {
   "cell_type": "code",
   "execution_count": 54,
   "metadata": {
    "metadata": {}
   },
   "outputs": [],
   "source": [
    "mesh1 = TriMesh('examples/data/cat-00.off', center=True, area_normalize=True).process(k=150, intrinsic=True)\n",
    "mesh2 = TriMesh('examples/data/lion-00.off', center=True, area_normalize=True).process(k=150, intrinsic=True)"
   ]
  },
  {
   "cell_type": "markdown",
   "metadata": {},
   "source": [
    "# 3 - Computing Initial Correspondences"
   ]
  },
  {
   "cell_type": "markdown",
   "metadata": {},
   "source": [
    "ZoomOut works using initial correspondences.\n",
    "We show here two versions:\n",
    " - One using Nearest Neighbor initialization (hoping that meshes are aligned)\n",
    " - One using WKS initialization\n",
    "\n",
    "\n",
    "**NOTE**: In this package, *functional map* usually go from Shape $1$ to Shape $2$, and *pointwise maps* from shape $2$ to shape $1$.\n",
    "\n",
    "\n",
    "Let's compute the initial maps from `mesh2` to `mesh1`"
   ]
  },
  {
   "cell_type": "code",
   "execution_count": 55,
   "metadata": {
    "metadata": {}
   },
   "outputs": [],
   "source": [
    "from pyFM.signatures.WKS_functions import mesh_WKS\n",
    "from pyFM.spectral.nn_utils import knn_query\n",
    "\n",
    "wks_descr1 = mesh_WKS(mesh1, num_E=100, k=100)\n",
    "wks_descr2 = mesh_WKS(mesh2, num_E=100, k=100)\n",
    "\n",
    "# WKS initialisation\n",
    "p2p_21_wks = knn_query(wks_descr1, wks_descr2, k=1) # (n2,) initialisation with 1-NN\n",
    "\n",
    "# NN Initialisation\n",
    "p2p_21_nn = knn_query(mesh1.vertices, mesh2.vertices, k=1) # (n2,) initialisation with 1-NN"
   ]
  },
  {
   "cell_type": "code",
   "execution_count": null,
   "metadata": {
    "metadata": {}
   },
   "outputs": [],
   "source": [
    "cmap1 = visu(mesh1.vertlist)\n",
    "cmap2_wks = cmap1[p2p_21_wks]\n",
    "cmap2_nn = cmap1[p2p_21_nn]\n",
    "\n",
    "double_plot(mesh1,mesh2,cmap1,cmap2_wks)"
   ]
  },
  {
   "cell_type": "markdown",
   "metadata": {},
   "source": [
    "# 4 - Applying ZoomOut"
   ]
  },
  {
   "cell_type": "markdown",
   "metadata": {},
   "source": [
    "We can remesh this mapn using the [ZoomOut algorithm](https://www.lix.polytechnique.fr/~maks/papers/papers_235s4-file1.pdf).\n",
    "\n",
    "This iterative algorithm refines functional maps but can easily be adapted to refine pointwise correspondences"
   ]
  },
  {
   "cell_type": "code",
   "execution_count": 59,
   "metadata": {
    "metadata": {}
   },
   "outputs": [],
   "source": [
    "from pyFM.refine.zoomout import mesh_zoomout_refine_p2p"
   ]
  },
  {
   "cell_type": "code",
   "execution_count": 60,
   "metadata": {
    "metadata": {}
   },
   "outputs": [
    {
     "data": {
      "application/vnd.jupyter.widget-view+json": {
       "model_id": "98d89175becc4a0288eaa42f4112b355",
       "version_major": 2,
       "version_minor": 0
      },
      "text/plain": [
       "  0%|          | 0/16 [00:00<?, ?it/s]"
      ]
     },
     "metadata": {},
     "output_type": "display_data"
    },
    {
     "data": {
      "application/vnd.jupyter.widget-view+json": {
       "model_id": "a4bd09e5ccb6496d8ad8d19933d3522a",
       "version_major": 2,
       "version_minor": 0
      },
      "text/plain": [
       "  0%|          | 0/16 [00:00<?, ?it/s]"
      ]
     },
     "metadata": {},
     "output_type": "display_data"
    }
   ],
   "source": [
    "FM_12_wks_zo, p2p_21_wks_zo = mesh_zoomout_refine_p2p(p2p_21=p2p_21_wks, mesh1=mesh1, mesh2=mesh2, k_init=20, nit=16, step=5, return_p2p=True, n_jobs=10, verbose=True)\n",
    "FM_12_nn_zo, p2p_21_nn_zo = mesh_zoomout_refine_p2p(p2p_21=p2p_21_nn, mesh1=mesh1, mesh2=mesh2, k_init=20, nit=16, step=5, return_p2p=True, n_jobs=10, verbose=True)"
   ]
  },
  {
   "cell_type": "code",
   "execution_count": null,
   "metadata": {
    "metadata": {}
   },
   "outputs": [],
   "source": [
    "cmap1 = visu(mesh1.vertlist)\n",
    "cmap2_wks = cmap1[p2p_21_wks_zo]\n",
    "cmap2_nn = cmap1[p2p_21_nn_zo]\n",
    "\n",
    "double_plot(mesh1,mesh2,cmap1,cmap2_nn)"
   ]
  },
  {
   "cell_type": "code",
   "execution_count": null,
   "metadata": {},
   "outputs": [],
   "source": []
  }
 ],
 "metadata": {
  "kernelspec": {
   "display_name": "Python 3 (ipykernel)",
   "language": "python",
   "name": "python3"
  },
  "orig_nbformat": 4
 },
 "nbformat": 4,
 "nbformat_minor": 2
}
